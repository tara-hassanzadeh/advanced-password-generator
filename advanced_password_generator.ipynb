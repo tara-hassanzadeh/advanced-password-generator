{
  "nbformat": 4,
  "nbformat_minor": 0,
  "metadata": {
    "colab": {
      "provenance": [],
      "authorship_tag": "ABX9TyMaC9XEw190BZBwfhbAvJbw",
      "include_colab_link": true
    },
    "kernelspec": {
      "name": "python3",
      "display_name": "Python 3"
    },
    "language_info": {
      "name": "python"
    }
  },
  "cells": [
    {
      "cell_type": "markdown",
      "metadata": {
        "id": "view-in-github",
        "colab_type": "text"
      },
      "source": [
        "<a href=\"https://colab.research.google.com/github/tara-hassanzadeh/advanced-password-generator/blob/main/advanced_password_generator.ipynb\" target=\"_parent\"><img src=\"https://colab.research.google.com/assets/colab-badge.svg\" alt=\"Open In Colab\"/></a>"
      ]
    },
    {
      "cell_type": "markdown",
      "source": [
        "Advanced password generator"
      ],
      "metadata": {
        "id": "zRQNi4xjg13h"
      }
    },
    {
      "cell_type": "code",
      "execution_count": 6,
      "metadata": {
        "colab": {
          "base_uri": "https://localhost:8080/"
        },
        "id": "KIJhu9ltg0xh",
        "outputId": "d6126939-58a2-4c49-cf42-ea1ce2e0b9f0"
      },
      "outputs": [
        {
          "output_type": "stream",
          "name": "stdout",
          "text": [
            "advanced password generator\n",
            "enter password length:12\n",
            "include uppercase letters(y/n):y\n",
            "include lowercase letters(y/n):y\n",
            "include digits(y/n):y\n",
            "include symbols(y/n):y\n",
            "generated password: upu6eS:iR,wZ\n"
          ]
        }
      ],
      "source": [
        "import random\n",
        "import string\n",
        "def generate_password(length, use_upper, use_lower, use_digits, use_symbols):\n",
        "    if length<1:\n",
        "      return \"password length must be at least 1\"\n",
        "    character_pool=\"\"\n",
        "    required_char=[]\n",
        "    if use_upper:\n",
        "      character_pool+=string.ascii_uppercase\n",
        "      required_char.append(random.choice(string.ascii_uppercase))\n",
        "    if use_lower:\n",
        "      character_pool+=string.ascii_lowercase\n",
        "      required_char.append(random.choice(string.ascii_lowercase))\n",
        "    if use_digits:\n",
        "      character_pool+=string.digits\n",
        "      required_char.append(random.choice(string.digits))\n",
        "    if use_symbols:\n",
        "      character_pool+=string.punctuation\n",
        "      required_char.append(random.choice(string.punctuation))\n",
        "    if not character_pool:\n",
        "      return \"no character types selected. please enable at least one\"\n",
        "    if length<len(required_char):\n",
        "      return f\"length must be at least {len(required_char)} to include all selected character types\"\n",
        "    remaining_length=length-len(required_char)\n",
        "    password_char=required_char+[random.choice(character_pool) for _ in range(remaining_length)]\n",
        "    random.shuffle(password_char)\n",
        "    return ''.join(password_char)\n",
        "def get_boolean_input(prompt):\n",
        "  while True:\n",
        "    response=input(prompt+\"(y/n):\").strip().lower()\n",
        "    if response==\"y\":\n",
        "      return True\n",
        "    elif response==\"n\":\n",
        "      return False\n",
        "    else:\n",
        "      print(\"invalid input. please enter y or n\")\n",
        "if __name__==\"__main__\":\n",
        "  print(\"advanced password generator\")\n",
        "  try:\n",
        "    length=int(input(\"enter password length:\"))\n",
        "    use_upper=get_boolean_input(\"include uppercase letters\")\n",
        "    use_lower=get_boolean_input(\"include lowercase letters\")\n",
        "    use_digits=get_boolean_input(\"include digits\")\n",
        "    use_symbols=get_boolean_input(\"include symbols\")\n",
        "    password=generate_password(length,use_upper,use_lower,use_digits,use_symbols)\n",
        "    print(\"generated password:\",password)\n",
        "  except ValueError:\n",
        "    print(\"invalid input. please enter a valid number for length.\")"
      ]
    }
  ]
}